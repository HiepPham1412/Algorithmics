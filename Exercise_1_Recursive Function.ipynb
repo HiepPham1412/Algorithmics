{
 "cells": [
  {
   "cell_type": "code",
   "execution_count": 9,
   "metadata": {},
   "outputs": [
    {
     "name": "stdout",
     "output_type": "stream",
     "text": [
      "[True, False, True, False, True, False, True]\n",
      "Result correct!\n"
     ]
    }
   ],
   "source": [
    "import numpy as np\n",
    "def is_dim_reduction(data, queries):\n",
    "    # binary search --------------------\n",
    "    def bin_search(a, v):\n",
    "        l = 0\n",
    "        r = len(a)\n",
    "        while l<r:\n",
    "            m = (l+r)//2\n",
    "            if a[m] >= v:\n",
    "                  r = m\n",
    "            else:\n",
    "                  l = m+1\n",
    "        return True if a[r]==v else False\n",
    "    #------------------------------------\n",
    "    data_sum = sum(data)\n",
    "    data_cs = np.cumsum(data)\n",
    "    result = []\n",
    "    for q in queries: \n",
    "        res = []\n",
    "        # condition to filter out some obviously false cases\n",
    "        if sum(q) != data_sum:\n",
    "                res = False\n",
    "        else:\n",
    "            for q1 in range(4): \n",
    "                if bin_search(data_cs,q[q1]):\n",
    "                    tmp1 = q[:q1] + q[q1+1:]\n",
    "                    for q2 in range(3): \n",
    "                        if bin_search(data_cs,tmp1[q2]+q[q1]):\n",
    "                            tmp2 = tmp1[:q2]+tmp1[q2+1:]\n",
    "                            for q3 in range(2):\n",
    "                                if bin_search(data_cs,tmp2[q3]+q[q1]+tmp1[q2]):\n",
    "                                    res = True\n",
    "        if res == []:\n",
    "            res = False\n",
    "        result.append(res)\n",
    "    return result\n",
    "test_data = [1,2,3,4,5,6,7,8,9,10]\n",
    "test_queries = [\n",
    "  [15,6,15,19],\n",
    "  [16,5,15,19],\n",
    "  [5,10,19,21],\n",
    "  [21,7,8,9],\n",
    "  [21,7,8,19],\n",
    "  [28,15,9,10],\n",
    "  [28,8,9,10]]\n",
    "  \n",
    "expected_result = [True, False, True, False, True, False, True]\n",
    "my_result = is_dim_reduction(test_data, test_queries)\n",
    "print(my_result)\n",
    "\n",
    "if my_result == expected_result:\n",
    "  print(\"Result correct!\")\n",
    "else:\n",
    "  print(\"Result incorrect!\")"
   ]
  }
 ],
 "metadata": {
  "kernelspec": {
   "display_name": "Python 3",
   "language": "python",
   "name": "python3"
  },
  "language_info": {
   "codemirror_mode": {
    "name": "ipython",
    "version": 3
   },
   "file_extension": ".py",
   "mimetype": "text/x-python",
   "name": "python",
   "nbconvert_exporter": "python",
   "pygments_lexer": "ipython3",
   "version": "3.7.1"
  }
 },
 "nbformat": 4,
 "nbformat_minor": 2
}
