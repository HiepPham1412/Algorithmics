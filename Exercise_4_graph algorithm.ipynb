{
 "cells": [
  {
   "cell_type": "code",
   "execution_count": 28,
   "metadata": {},
   "outputs": [
    {
     "name": "stdout",
     "output_type": "stream",
     "text": [
      "Your result is:  1.7\n",
      "Result correct!\n"
     ]
    }
   ],
   "source": [
    "import networkx as nx\n",
    "import numpy as np\n",
    "import itertools\n",
    "import matplotlib.pyplot as plt\n",
    "\n",
    "def average_distance(N, communities):\n",
    "    #-------------------------------------------------------------------------\n",
    "    # define a function to take a graph and return average shortest distances\n",
    "    # between all of them\n",
    "    def distance(graph):\n",
    "        length = 0\n",
    "        running_sum = 0\n",
    "        # start from all nodes of the graph\n",
    "        for node in graph.nodes():\n",
    "            # breath first search implementation \n",
    "            # code snippet from networkx with some modification to return distance\n",
    "            visisted={}            \n",
    "            layer=0                  \n",
    "            nextlayer={node:1}\n",
    "            while nextlayer:\n",
    "                thislayer=nextlayer\n",
    "                nextlayer={}         \n",
    "                for edge in thislayer:\n",
    "                    if edge not in visisted:\n",
    "                        visisted[edge]=layer \n",
    "                        nextlayer.update(graph[edge])\n",
    "                layer=layer+1\n",
    "            length += len(visisted)\n",
    "            running_sum +=sum(visisted.values())\n",
    "        return float(running_sum)/float(length)\n",
    "        # according to assumption, depth first search time complexity O(n+m), and m can be max n^2\n",
    "        # hence, the time complexity of above function is 0(n^3)\n",
    "    #--------------------------------------------------------------------------------    \n",
    "    # put the communities into proper graph structure so the above function can work well   \n",
    "    mygraph = nx.Graph()\n",
    "    for communities in data:\n",
    "        mygraph.add_edges_from([l for l in list(itertools.combinations(communities,2))])\n",
    "        # as there are max n^2 communities, this initialization time complexity is O(n^3)\n",
    "    #--------------------------------------------------------------------------------\n",
    "    # call the function on new graph\n",
    "    dist = distance(mygraph)\n",
    "    return dist\n",
    "\n",
    "N = 10\n",
    "data = [[0,1,2,3], [0,1,4,5,6], [3,6,7], [2,8], [8,9]]\n",
    "\n",
    "my_result = average_distance(N, data)\n",
    "print(\"Your result is: \", my_result)\n",
    "\n",
    "expected_result = 1.7\n",
    "# we allow a small error, so that you will not run into problems because of floating point precision\n",
    "if abs(my_result - expected_result) < .000001:\n",
    "  print(\"Result correct!\")\n",
    "else:\n",
    "  print(\"Result incorrect!\")"
   ]
  }
 ],
 "metadata": {
  "kernelspec": {
   "display_name": "Python 3",
   "language": "python",
   "name": "python3"
  },
  "language_info": {
   "codemirror_mode": {
    "name": "ipython",
    "version": 3
   },
   "file_extension": ".py",
   "mimetype": "text/x-python",
   "name": "python",
   "nbconvert_exporter": "python",
   "pygments_lexer": "ipython3",
   "version": "3.5.2"
  }
 },
 "nbformat": 4,
 "nbformat_minor": 2
}
